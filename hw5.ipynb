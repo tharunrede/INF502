{
  "nbformat": 4,
  "nbformat_minor": 0,
  "metadata": {
    "colab": {
      "provenance": []
    },
    "kernelspec": {
      "name": "python3",
      "display_name": "Python 3"
    },
    "language_info": {
      "name": "python"
    }
  },
  "cells": [
    {
      "cell_type": "code",
      "execution_count": 2,
      "metadata": {
        "colab": {
          "base_uri": "https://localhost:8080/"
        },
        "id": "JvlIyCVYr37x",
        "outputId": "f492b94a-696b-4249-ed84-81e36b4387eb"
      },
      "outputs": [
        {
          "output_type": "stream",
          "name": "stdout",
          "text": [
            "Enter 1st value: 98\n",
            "Enter 2nd value: 56\n",
            "GCF of 98  and 56 is : 14\n",
            "GCF of 48 and 30 is:  6\n",
            "GCF of -36 and -60 is:  12\n",
            "GCF of 168 and 0 is:  168\n",
            "GCF of 0 and 18 is:  18\n",
            "GCF of 0 and 0 is:  0\n",
            "GCF of 0 and 0 is:  0\n"
          ]
        }
      ],
      "source": [
        "def GCF(a,b): # function definition\n",
        "  a= abs(a)    # conver number to positive \n",
        "  b= abs(b)     # conver number to positive \n",
        "  num1=max(a,b)  # assign maximum a,b to num1\n",
        "  num2=min(a,b)  # assign minimum a,b to num2\n",
        "  if a==0:    # checking if a is equal to 0\n",
        "    return b  # return b\n",
        "  elif b==0:    # checking if b is equal to 0\n",
        "    return a  # return a\n",
        "  else:\n",
        "    rem = num1%num2    # calculate remainder of num1 and num2\n",
        "    if rem == 0:      # check if remainder is equal to 0\n",
        "      return num2  # return num2(i.e divisor)\n",
        "    else:\n",
        "      return GCF(num2, rem)   # calling the function again\n",
        "      \n",
        "\n",
        "\n",
        "if __name__ == \"__main__\":  # main function\n",
        "\n",
        "  flag=0         # set a temporary variable to 0\n",
        "\n",
        "  while flag==0:\n",
        "    try:   # try to  catch the errors\n",
        "      a= int(input(\"Enter 1st value: \"))     # take value from the user\n",
        "      b= int(input(\"Enter 2nd value: \"))     # take value from the user\n",
        "      print(\"GCF of\",a,\" and\",b,\"is :\",GCF(a,b))     # Calculate GCF using the function\n",
        "      print(\"GCF of 48 and 30 is: \",GCF(48,30))\n",
        "      print(\"GCF of -36 and -60 is: \",GCF(-36,-60))\n",
        "      print(\"GCF of 168 and 0 is: \",GCF(168,0))\n",
        "      print(\"GCF of 0 and 18 is: \",GCF(0,18))\n",
        "      print(\"GCF of 0 and 0 is: \",GCF(0,0))\n",
        "      print(\"GCF of 0 and 0 is: \",GCF(0,0))\n",
        "      flag=1\n",
        "    except ValueError:                #  catch exception if userr enters any other value than integer\n",
        "      print(\"Enter Integer Value only\")"
      ]
    },
    {
      "cell_type": "markdown",
      "source": [
        "### **Description:**<br>\n",
        "\n",
        "In the code above we used the successive divisions approach to solve the Greatest Common Factor of 2 numbers. In this approach, we make many divisions until we get the exact division and the GCF would be the divisor of the last division.<br>\n",
        "\n",
        "### **Implementation:**<br>\n",
        "\n",
        "The GCF of negative numbers is the same as the GCF of their positive numbers. I have converted the numbers into positive ones using the absolute “abs()” function. We need to find the greatest and smallest of two numbers given as input so that we can divide the greatest number by the smallest number. \n",
        "Then I checked if one of the numbers is equal to zero. If one of the numbers is equal to zero The GCF is going to be the other number. Then we calculate the remainder of two numbers and see if it is zero. If the remainder is zero, the divisor is going to be returned as the GCF else we call the same function again using the divisor and remainder which are the new numbers given as the parameters to the function. We repeat the same process till the GCF is calculated.<br>\n",
        "\n",
        "### **Behavior of Function:**<br>\n",
        "\n",
        "**For a and b starting with 98 and 56:<br>**\n",
        "GCF(98,56)<br>\n",
        "GCF(56,42)<br>\n",
        "GCF(42,14)<br>\n",
        "14      <br>\n",
        "\n",
        "**For a and b starting with -36 and -60<br>**\n",
        "GCF(-36,-60)<br>\n",
        "GCF(36,24)<br>\n",
        "GCF(24,12)<br>\n",
        "12<br>\n"
      ],
      "metadata": {
        "id": "GoKhYYhGr_FJ"
      }
    }
  ]
}